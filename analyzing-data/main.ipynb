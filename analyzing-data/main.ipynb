{
 "cells": [
  {
   "cell_type": "code",
   "execution_count": 1,
   "metadata": {},
   "outputs": [],
   "source": [
    "import pandas as pd\n",
    "import sqlite3\n",
    "import numpy as np\n",
    "import matplotlib.pyplot as plt\n",
    "import matplotlib.ticker as ticker\n",
    "\n",
    "# Create your connection.\n",
    "conn = sqlite3.connect('../scraping-data/database/myDB.db')\n",
    "df  = pd.read_sql_query('SELECT * FROM games', conn)\n",
    "# df_copy = df.copy()   \n"
   ]
  },
  {
   "cell_type": "markdown",
   "metadata": {},
   "source": [
    "# Data Cleaning"
   ]
  },
  {
   "cell_type": "code",
   "execution_count": 2,
   "metadata": {},
   "outputs": [],
   "source": [
    "# [drop-> 'Mini', 'Dungeons', 'Games', 'Warhammer', ' Word'\n",
    "#Steam -> Steam Machine\n",
    "# 'trading', ]\n",
    "\n",
    "df = df.drop_duplicates(subset=['tag', 'price', 'name', 'release'])\n",
    "to_drop = ['Mini', 'Dungeons', 'Games', 'Warhammer', ' Word']\n",
    "for i in to_drop:\n",
    "    df.drop(df[df['tag'] == i].index, inplace=True)\n",
    "\n",
    "df['tag'] == df['tag'].replace({'Steam': 'Steam Machine'})\n",
    "\n",
    "df1 = df.loc[\n",
    "        (\n",
    "        (df['tag'] == 'Trading') |   \n",
    "        (df['tag'] == 'Trading Card Game')\n",
    ")]\n",
    "\n",
    "df1 = df1.drop_duplicates(subset=['name', 'type', 'release'], keep='last')\n",
    "\n",
    "to_drop2 = ['Trading', 'Trading Card Game']\n",
    "for j in to_drop2:\n",
    "    df.drop(df[df['tag']== j].index, inplace=True)\n",
    "\n",
    "df = pd.concat([df, df1])\n"
   ]
  },
  {
   "cell_type": "code",
   "execution_count": 3,
   "metadata": {},
   "outputs": [],
   "source": [
    "#convert ['peak', 'online', 'follows'] to int type\n",
    "for i in ['peak', 'online', 'follows']:\n",
    "    df[i] = df[i].str.replace(',', '')\n",
    "    df[i].replace({'': np.nan, '—': np.nan}, inplace=True)\n",
    "    df[i] = df[i].astype('Int64')\n",
    "    df[i].fillna(0, inplace=True)\n",
    "\n",
    "df['release'].replace({'—': np.nan}, inplace=True)\n",
    "\n",
    "#fill all missing value with Nov 199 to avoid converting problems\n",
    "df['release'].fillna('Nov 1900', inplace=True)\n",
    "\n",
    "# #while i was trying to convert this column i occured a funny release date \n",
    "# Note: delete df.drop(df[df['name'] == 'CITRON WORLD FORWARD:ZERO'].index, inplace=True) # <- this game set to release in 4444-Apr lol\n",
    "df['release'] = pd.to_datetime(df['release'], format='%b %Y', errors='coerce').dt.to_period('M')\n",
    "df.dropna(subset=['release'], inplace=True)\n"
   ]
  },
  {
   "cell_type": "code",
   "execution_count": 4,
   "metadata": {},
   "outputs": [
    {
     "name": "stderr",
     "output_type": "stream",
     "text": [
      "/tmp/ipykernel_3519/2166327822.py:10: FutureWarning: The default value of regex will change from True to False in a future version. In addition, single character regular expressions will *not* be treated as literal strings when regex=True.\n",
      "  df['price'] = pd.to_numeric(df['price'].str.replace('$', ''))\n"
     ]
    }
   ],
   "source": [
    "#try df[['rating', 'price']]\n",
    "to_replace = ['rating', 'price']\n",
    "for i in to_replace:\n",
    "    df[i].replace({\n",
    "        '—': ''\n",
    "    }, inplace=True)\n",
    "    \n",
    "df['rating'] = pd.to_numeric(df['rating'].str.replace('%', ''))\n",
    "\n",
    "df['price'] = pd.to_numeric(df['price'].str.replace('$', ''))\n",
    "df['price'].fillna(0, inplace=True)\n",
    "df['free'] = df['price'].apply(lambda x: 'free' if x == 0.00 else 'paid')"
   ]
  },
  {
   "cell_type": "code",
   "execution_count": 5,
   "metadata": {},
   "outputs": [
    {
     "data": {
      "text/html": [
       "<div>\n",
       "<style scoped>\n",
       "    .dataframe tbody tr th:only-of-type {\n",
       "        vertical-align: middle;\n",
       "    }\n",
       "\n",
       "    .dataframe tbody tr th {\n",
       "        vertical-align: top;\n",
       "    }\n",
       "\n",
       "    .dataframe thead th {\n",
       "        text-align: right;\n",
       "    }\n",
       "</style>\n",
       "<table border=\"1\" class=\"dataframe\">\n",
       "  <thead>\n",
       "    <tr style=\"text-align: right;\">\n",
       "      <th></th>\n",
       "      <th>tag</th>\n",
       "      <th>name</th>\n",
       "      <th>type</th>\n",
       "      <th>price</th>\n",
       "      <th>rating</th>\n",
       "      <th>release</th>\n",
       "      <th>follows</th>\n",
       "      <th>online</th>\n",
       "      <th>peak</th>\n",
       "      <th>free</th>\n",
       "    </tr>\n",
       "  </thead>\n",
       "  <tbody>\n",
       "    <tr>\n",
       "      <th>0</th>\n",
       "      <td>Archery</td>\n",
       "      <td>Arrow a Row</td>\n",
       "      <td>Game</td>\n",
       "      <td>0.00</td>\n",
       "      <td>94.50</td>\n",
       "      <td>2023-08</td>\n",
       "      <td>2689</td>\n",
       "      <td>347</td>\n",
       "      <td>9404</td>\n",
       "      <td>free</td>\n",
       "    </tr>\n",
       "    <tr>\n",
       "      <th>1</th>\n",
       "      <td>Archery</td>\n",
       "      <td>Northern Journey</td>\n",
       "      <td>Game</td>\n",
       "      <td>11.99</td>\n",
       "      <td>92.93</td>\n",
       "      <td>2021-08</td>\n",
       "      <td>3793</td>\n",
       "      <td>3</td>\n",
       "      <td>153</td>\n",
       "      <td>paid</td>\n",
       "    </tr>\n",
       "    <tr>\n",
       "      <th>2</th>\n",
       "      <td>Archery</td>\n",
       "      <td>The Lab</td>\n",
       "      <td>Game</td>\n",
       "      <td>0.00</td>\n",
       "      <td>91.75</td>\n",
       "      <td>2016-04</td>\n",
       "      <td>26426</td>\n",
       "      <td>18</td>\n",
       "      <td>927</td>\n",
       "      <td>free</td>\n",
       "    </tr>\n",
       "    <tr>\n",
       "      <th>3</th>\n",
       "      <td>Archery</td>\n",
       "      <td>TowerFall Ascension</td>\n",
       "      <td>Game</td>\n",
       "      <td>7.99</td>\n",
       "      <td>91.03</td>\n",
       "      <td>2014-03</td>\n",
       "      <td>17007</td>\n",
       "      <td>3</td>\n",
       "      <td>355</td>\n",
       "      <td>paid</td>\n",
       "    </tr>\n",
       "    <tr>\n",
       "      <th>4</th>\n",
       "      <td>Archery</td>\n",
       "      <td>Enderal: Forgotten Stories (Special Edition)</td>\n",
       "      <td>Game</td>\n",
       "      <td>0.00</td>\n",
       "      <td>90.09</td>\n",
       "      <td>2021-03</td>\n",
       "      <td>21863</td>\n",
       "      <td>267</td>\n",
       "      <td>2428</td>\n",
       "      <td>free</td>\n",
       "    </tr>\n",
       "  </tbody>\n",
       "</table>\n",
       "</div>"
      ],
      "text/plain": [
       "       tag                                          name  type  price  rating  \\\n",
       "0  Archery                                   Arrow a Row  Game   0.00   94.50   \n",
       "1  Archery                              Northern Journey  Game  11.99   92.93   \n",
       "2  Archery                                       The Lab  Game   0.00   91.75   \n",
       "3  Archery                           TowerFall Ascension  Game   7.99   91.03   \n",
       "4  Archery  Enderal: Forgotten Stories (Special Edition)  Game   0.00   90.09   \n",
       "\n",
       "   release  follows  online  peak  free  \n",
       "0  2023-08     2689     347  9404  free  \n",
       "1  2021-08     3793       3   153  paid  \n",
       "2  2016-04    26426      18   927  free  \n",
       "3  2014-03    17007       3   355  paid  \n",
       "4  2021-03    21863     267  2428  free  "
      ]
     },
     "execution_count": 5,
     "metadata": {},
     "output_type": "execute_result"
    }
   ],
   "source": [
    "df.head(5)"
   ]
  },
  {
   "cell_type": "code",
   "execution_count": 6,
   "metadata": {},
   "outputs": [
    {
     "data": {
      "text/plain": [
       "(150733, 10)"
      ]
     },
     "execution_count": 6,
     "metadata": {},
     "output_type": "execute_result"
    }
   ],
   "source": [
    "df1 = df.drop_duplicates(subset=['name', 'type', 'release'])\n",
    "df1.shape"
   ]
  },
  {
   "cell_type": "code",
   "execution_count": 7,
   "metadata": {},
   "outputs": [
    {
     "data": {
      "text/html": [
       "<div>\n",
       "<style scoped>\n",
       "    .dataframe tbody tr th:only-of-type {\n",
       "        vertical-align: middle;\n",
       "    }\n",
       "\n",
       "    .dataframe tbody tr th {\n",
       "        vertical-align: top;\n",
       "    }\n",
       "\n",
       "    .dataframe thead th {\n",
       "        text-align: right;\n",
       "    }\n",
       "</style>\n",
       "<table border=\"1\" class=\"dataframe\">\n",
       "  <thead>\n",
       "    <tr style=\"text-align: right;\">\n",
       "      <th></th>\n",
       "      <th>tag</th>\n",
       "      <th>name</th>\n",
       "      <th>type</th>\n",
       "      <th>price</th>\n",
       "      <th>rating</th>\n",
       "      <th>release</th>\n",
       "      <th>follows</th>\n",
       "      <th>online</th>\n",
       "      <th>peak</th>\n",
       "      <th>free</th>\n",
       "    </tr>\n",
       "  </thead>\n",
       "  <tbody>\n",
       "    <tr>\n",
       "      <th>42029</th>\n",
       "      <td>Twin Stick Shooter</td>\n",
       "      <td>Abyssal Survivors</td>\n",
       "      <td>Game</td>\n",
       "      <td>0.00</td>\n",
       "      <td>NaN</td>\n",
       "      <td>1900-11</td>\n",
       "      <td>8</td>\n",
       "      <td>0</td>\n",
       "      <td>0</td>\n",
       "      <td>free</td>\n",
       "    </tr>\n",
       "    <tr>\n",
       "      <th>1245370</th>\n",
       "      <td>Massively Multiplayer</td>\n",
       "      <td>LURE: LITE</td>\n",
       "      <td>DLC</td>\n",
       "      <td>0.00</td>\n",
       "      <td>NaN</td>\n",
       "      <td>2020-12</td>\n",
       "      <td>0</td>\n",
       "      <td>0</td>\n",
       "      <td>0</td>\n",
       "      <td>free</td>\n",
       "    </tr>\n",
       "    <tr>\n",
       "      <th>186972</th>\n",
       "      <td>Dark</td>\n",
       "      <td>Seven Bullets Horror 7発の弾丸ホラー</td>\n",
       "      <td>Game</td>\n",
       "      <td>1.99</td>\n",
       "      <td>55.69</td>\n",
       "      <td>2024-02</td>\n",
       "      <td>13</td>\n",
       "      <td>0</td>\n",
       "      <td>2</td>\n",
       "      <td>paid</td>\n",
       "    </tr>\n",
       "    <tr>\n",
       "      <th>107828</th>\n",
       "      <td>Design &amp; Illustration</td>\n",
       "      <td>Ecchi Beauties - 18+ Adult Only Content</td>\n",
       "      <td>DLC</td>\n",
       "      <td>0.00</td>\n",
       "      <td>59.42</td>\n",
       "      <td>2022-11</td>\n",
       "      <td>0</td>\n",
       "      <td>0</td>\n",
       "      <td>0</td>\n",
       "      <td>free</td>\n",
       "    </tr>\n",
       "    <tr>\n",
       "      <th>331245</th>\n",
       "      <td>Free to Play</td>\n",
       "      <td>Idle Champions - Black Cat Familiar</td>\n",
       "      <td>DLC</td>\n",
       "      <td>0.00</td>\n",
       "      <td>62.51</td>\n",
       "      <td>2018-09</td>\n",
       "      <td>0</td>\n",
       "      <td>0</td>\n",
       "      <td>0</td>\n",
       "      <td>free</td>\n",
       "    </tr>\n",
       "    <tr>\n",
       "      <th>743950</th>\n",
       "      <td>Sports</td>\n",
       "      <td>Club Manager 2016 - Upgrade to Club Manager 2017</td>\n",
       "      <td>DLC</td>\n",
       "      <td>14.99</td>\n",
       "      <td>42.61</td>\n",
       "      <td>2017-03</td>\n",
       "      <td>0</td>\n",
       "      <td>0</td>\n",
       "      <td>0</td>\n",
       "      <td>paid</td>\n",
       "    </tr>\n",
       "    <tr>\n",
       "      <th>132308</th>\n",
       "      <td>Female Protagonist</td>\n",
       "      <td>Casting Whispers</td>\n",
       "      <td>Game</td>\n",
       "      <td>0.00</td>\n",
       "      <td>NaN</td>\n",
       "      <td>1900-11</td>\n",
       "      <td>41</td>\n",
       "      <td>0</td>\n",
       "      <td>0</td>\n",
       "      <td>free</td>\n",
       "    </tr>\n",
       "    <tr>\n",
       "      <th>742835</th>\n",
       "      <td>Sports</td>\n",
       "      <td>ToaZZle</td>\n",
       "      <td>Game</td>\n",
       "      <td>4.99</td>\n",
       "      <td>56.83</td>\n",
       "      <td>2018-03</td>\n",
       "      <td>37</td>\n",
       "      <td>0</td>\n",
       "      <td>3</td>\n",
       "      <td>paid</td>\n",
       "    </tr>\n",
       "    <tr>\n",
       "      <th>55191</th>\n",
       "      <td>Gun Customization</td>\n",
       "      <td>Titan Survival</td>\n",
       "      <td>Game</td>\n",
       "      <td>0.00</td>\n",
       "      <td>NaN</td>\n",
       "      <td>1900-11</td>\n",
       "      <td>9</td>\n",
       "      <td>0</td>\n",
       "      <td>0</td>\n",
       "      <td>free</td>\n",
       "    </tr>\n",
       "    <tr>\n",
       "      <th>194089</th>\n",
       "      <td>Indie</td>\n",
       "      <td>Nimble Quest</td>\n",
       "      <td>Game</td>\n",
       "      <td>4.99</td>\n",
       "      <td>85.07</td>\n",
       "      <td>2013-12</td>\n",
       "      <td>690</td>\n",
       "      <td>1</td>\n",
       "      <td>321</td>\n",
       "      <td>paid</td>\n",
       "    </tr>\n",
       "  </tbody>\n",
       "</table>\n",
       "</div>"
      ],
      "text/plain": [
       "                           tag  \\\n",
       "42029       Twin Stick Shooter   \n",
       "1245370  Massively Multiplayer   \n",
       "186972                    Dark   \n",
       "107828   Design & Illustration   \n",
       "331245            Free to Play   \n",
       "743950                  Sports   \n",
       "132308      Female Protagonist   \n",
       "742835                  Sports   \n",
       "55191        Gun Customization   \n",
       "194089                   Indie   \n",
       "\n",
       "                                                     name  type  price  \\\n",
       "42029                                   Abyssal Survivors  Game   0.00   \n",
       "1245370                                        LURE: LITE   DLC   0.00   \n",
       "186972                      Seven Bullets Horror 7発の弾丸ホラー  Game   1.99   \n",
       "107828            Ecchi Beauties - 18+ Adult Only Content   DLC   0.00   \n",
       "331245                Idle Champions - Black Cat Familiar   DLC   0.00   \n",
       "743950   Club Manager 2016 - Upgrade to Club Manager 2017   DLC  14.99   \n",
       "132308                                   Casting Whispers  Game   0.00   \n",
       "742835                                            ToaZZle  Game   4.99   \n",
       "55191                                      Titan Survival  Game   0.00   \n",
       "194089                                       Nimble Quest  Game   4.99   \n",
       "\n",
       "         rating  release  follows  online  peak  free  \n",
       "42029       NaN  1900-11        8       0     0  free  \n",
       "1245370     NaN  2020-12        0       0     0  free  \n",
       "186972    55.69  2024-02       13       0     2  paid  \n",
       "107828    59.42  2022-11        0       0     0  free  \n",
       "331245    62.51  2018-09        0       0     0  free  \n",
       "743950    42.61  2017-03        0       0     0  paid  \n",
       "132308      NaN  1900-11       41       0     0  free  \n",
       "742835    56.83  2018-03       37       0     3  paid  \n",
       "55191       NaN  1900-11        9       0     0  free  \n",
       "194089    85.07  2013-12      690       1   321  paid  "
      ]
     },
     "execution_count": 7,
     "metadata": {},
     "output_type": "execute_result"
    }
   ],
   "source": [
    "df1.sample(10)"
   ]
  },
  {
   "cell_type": "markdown",
   "metadata": {},
   "source": [
    "### Prices analysis "
   ]
  },
  {
   "cell_type": "code",
   "execution_count": 8,
   "metadata": {},
   "outputs": [
    {
     "data": {
      "image/png": "[encoded data removed]",
      "text/plain": [
       "<Figure size 432x288 with 1 Axes>"
      ]
     },
     "metadata": {
      "needs_background": "light"
     },
     "output_type": "display_data"
    }
   ],
   "source": [
    "import matplotlib.cm as cm\n",
    "#top 1000 most expensive paid tag games \n",
    "fig, ax = plt.subplots()\n",
    "top_paid_games = df1.loc[df1['free'] == 'paid', ['tag',  'name', 'price', 'peak', 'free']\n",
    "                        ].sort_values(by=['price'], ascending=False )\n",
    "ax.scatter(top_paid_games['price'], top_paid_games['peak'], alpha=0.5, c=top_paid_games['peak'], cmap=cm.brg)\n",
    "ax.yaxis.set_major_formatter(ticker.FuncFormatter(lambda x, pos: f'{x * 1e-6:.1f}M'))\n",
    "ax.xaxis.set_major_formatter(ticker.FuncFormatter(lambda x, pos: f'${int(x)}'))\n",
    "ax.set(title='top 1000 most expensive paid tag games',\n",
    "        xlabel='price',\n",
    "        ylabel='peak')\n",
    "# plt.setp(ax.get_xticklabels(), rotation = 30)\n",
    "ax.spines['top'].set_visible(False)\n",
    "ax.spines['right'].set_visible(False)\n",
    "ax.grid(color='black', linestyle='-', linewidth=0.30, alpha=0.5)\n",
    "\n"
   ]
  },
  {
   "cell_type": "code",
   "execution_count": 32,
   "metadata": {},
   "outputs": [
    {
     "data": {
      "text/plain": [
       "<matplotlib.legend.Legend at 0x7f2049a0e0a0>"
      ]
     },
     "execution_count": 32,
     "metadata": {},
     "output_type": "execute_result"
    },
    {
     "data": {
      "image/png": "[encoded data removed]",
      "text/plain": [
       "<Figure size 432x288 with 1 Axes>"
      ]
     },
     "metadata": {
      "needs_background": "light"
     },
     "output_type": "display_data"
    }
   ],
   "source": [
    "#comparing free and paid games based on the most played games in each\n",
    "top_free_games = df1.loc[df1['free'] == 'free', ['tag',  'name', 'price', 'peak', 'free']]\n",
    "fig, ax = plt.subplots()\n",
    "ax.scatter(top_paid_games['price'], top_paid_games['peak'], c='g', alpha=0.5, label='paid games')\n",
    "ax.scatter(top_free_games['price'], top_free_games['peak'], c='r', alpha=0.3, label='free games')\n",
    "ax.grid(color='black', linestyle='-', linewidth=0.30, alpha=0.5)\n",
    "ax.yaxis.set_major_formatter(ticker.FuncFormatter(lambda x, pos: f'{x * 1e-6:.1f}M'))\n",
    "ax.xaxis.set_major_formatter(ticker.FuncFormatter(lambda x, pos: f'${int(x)}'))\n",
    "fonts = {\n",
    "        'fontsize': 12, \n",
    "        'fontweight': 550, \n",
    "        'color': 'black'\n",
    "        }\n",
    "ax.set(title='top 1000 most expensive paid tag games')\n",
    "ax.set_ylabel(ylabel='Peak', rotation=0, loc='top', fontdict=fonts)\n",
    "ax.set_xlabel(xlabel='Price', loc='center', fontdict=fonts)\n",
    "ax.spines['top'].set_visible(False)\n",
    "ax.spines['right'].set_visible(False)\n",
    "ax.legend(loc='upper right')\n",
    "\n"
   ]
  },
  {
   "cell_type": "code",
   "execution_count": 10,
   "metadata": {},
   "outputs": [
    {
     "data": {
      "image/png": "[encoded data removed]",
      "text/plain": [
       "<Figure size 432x288 with 1 Axes>"
      ]
     },
     "metadata": {
      "needs_background": "light"
     },
     "output_type": "display_data"
    }
   ],
   "source": [
    "#top 1000 played paid games \n",
    "fig, ax = plt.subplots()\n",
    "best_paid = df1.loc[df1['free'] == 'paid', ['tag',  'name', 'price', 'peak']\n",
    "                    ].sort_values('peak', ascending=False).head(2000)\n",
    "ax.scatter(best_paid['price'], best_paid['peak'], s=20, alpha=0.6)\n",
    "ax.yaxis.set_major_formatter(ticker.FuncFormatter(lambda x, pos: f'{x * 1e-6:.1f}M'))\n",
    "ax.xaxis.set_major_formatter(ticker.FuncFormatter(lambda x, pos: f'${int(x)}'))\n"
   ]
  },
  {
   "cell_type": "code",
   "execution_count": 11,
   "metadata": {},
   "outputs": [
    {
     "data": {
      "text/html": [
       "<div>\n",
       "<style scoped>\n",
       "    .dataframe tbody tr th:only-of-type {\n",
       "        vertical-align: middle;\n",
       "    }\n",
       "\n",
       "    .dataframe tbody tr th {\n",
       "        vertical-align: top;\n",
       "    }\n",
       "\n",
       "    .dataframe thead th {\n",
       "        text-align: right;\n",
       "    }\n",
       "</style>\n",
       "<table border=\"1\" class=\"dataframe\">\n",
       "  <thead>\n",
       "    <tr style=\"text-align: right;\">\n",
       "      <th></th>\n",
       "      <th>tag</th>\n",
       "      <th>name</th>\n",
       "      <th>price</th>\n",
       "      <th>peak</th>\n",
       "    </tr>\n",
       "  </thead>\n",
       "  <tbody>\n",
       "    <tr>\n",
       "      <th>493078</th>\n",
       "      <td>Bullet Hell</td>\n",
       "      <td>Spikit</td>\n",
       "      <td>0.45</td>\n",
       "      <td>2771</td>\n",
       "    </tr>\n",
       "    <tr>\n",
       "      <th>166055</th>\n",
       "      <td>Card Game</td>\n",
       "      <td>Heretic's Fork</td>\n",
       "      <td>5.79</td>\n",
       "      <td>2769</td>\n",
       "    </tr>\n",
       "    <tr>\n",
       "      <th>11382</th>\n",
       "      <td>Soundtrack</td>\n",
       "      <td>EZ2ON REBOOT : R</td>\n",
       "      <td>20.99</td>\n",
       "      <td>2768</td>\n",
       "    </tr>\n",
       "    <tr>\n",
       "      <th>129230</th>\n",
       "      <td>Female Protagonist</td>\n",
       "      <td>Chronicles of the Witches and Warlocks</td>\n",
       "      <td>4.99</td>\n",
       "      <td>2767</td>\n",
       "    </tr>\n",
       "    <tr>\n",
       "      <th>21130</th>\n",
       "      <td>Great Soundtrack</td>\n",
       "      <td>Quake II</td>\n",
       "      <td>5.99</td>\n",
       "      <td>2766</td>\n",
       "    </tr>\n",
       "  </tbody>\n",
       "</table>\n",
       "</div>"
      ],
      "text/plain": [
       "                       tag                                    name  price  \\\n",
       "493078         Bullet Hell                                  Spikit   0.45   \n",
       "166055           Card Game                          Heretic's Fork   5.79   \n",
       "11382           Soundtrack                        EZ2ON REBOOT : R  20.99   \n",
       "129230  Female Protagonist  Chronicles of the Witches and Warlocks   4.99   \n",
       "21130     Great Soundtrack                                Quake II   5.99   \n",
       "\n",
       "        peak  \n",
       "493078  2771  \n",
       "166055  2769  \n",
       "11382   2768  \n",
       "129230  2767  \n",
       "21130   2766  "
      ]
     },
     "execution_count": 11,
     "metadata": {},
     "output_type": "execute_result"
    }
   ],
   "source": [
    "best_paid.tail(5)"
   ]
  },
  {
   "cell_type": "code",
   "execution_count": null,
   "metadata": {},
   "outputs": [],
   "source": []
  },
  {
   "cell_type": "code",
   "execution_count": null,
   "metadata": {},
   "outputs": [],
   "source": []
  },
  {
   "cell_type": "code",
   "execution_count": null,
   "metadata": {},
   "outputs": [],
   "source": []
  },
  {
   "cell_type": "code",
   "execution_count": null,
   "metadata": {},
   "outputs": [],
   "source": []
  }
 ],
 "metadata": {
  "kernelspec": {
   "display_name": "base",
   "language": "python",
   "name": "python3"
  },
  "language_info": {
   "codemirror_mode": {
    "name": "ipython",
    "version": 3
   },
   "file_extension": ".py",
   "mimetype": "text/x-python",
   "name": "python",
   "nbconvert_exporter": "python",
   "pygments_lexer": "ipython3",
   "version": "3.9.12"
  }
 },
 "nbformat": 4,
 "nbformat_minor": 2
}
