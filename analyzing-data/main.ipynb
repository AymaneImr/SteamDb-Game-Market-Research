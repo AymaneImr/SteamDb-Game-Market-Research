{
 "cells": [
  {
   "cell_type": "code",
   "execution_count": 1,
   "metadata": {},
   "outputs": [],
   "source": [
    "import pandas as pd\n",
    "import sqlite3\n",
    "import numpy as np\n",
    "import matplotlib.pyplot as plt\n",
    "\n",
    "\n",
    "# Create your connection.\n",
    "conn = sqlite3.connect('../scraping-data/database/myDB.db')\n",
    "df  = pd.read_sql_query('SELECT * FROM games', conn)\n",
    "# df_copy = df.copy()   \n"
   ]
  },
  {
   "cell_type": "markdown",
   "metadata": {},
   "source": [
    "# Data Cleaning"
   ]
  },
  {
   "cell_type": "code",
   "execution_count": 2,
   "metadata": {},
   "outputs": [],
   "source": [
    "# [drop-> 'Mini', 'Dungeons', 'Games', 'Warhammer', ' Word'\n",
    "#Steam -> Steam Machine\n",
    "# 'trading', ]\n",
    "\n",
    "df = df.drop_duplicates(subset=['tag', 'price', 'name', 'release'])\n",
    "to_drop = ['Mini', 'Dungeons', 'Games', 'Warhammer', ' Word']\n",
    "for i in to_drop:\n",
    "    df.drop(df[df['tag'] == i].index, inplace=True)\n",
    "\n",
    "df['tag'] == df['tag'].replace({'Steam': 'Steam Machine'})\n",
    "\n",
    "df1 = df.loc[\n",
    "        (\n",
    "        (df['tag'] == 'Trading') |   \n",
    "        (df['tag'] == 'Trading Card Game')\n",
    ")]\n",
    "\n",
    "df1 = df1.drop_duplicates(subset=['name', 'type', 'release'], keep='last')\n",
    "\n",
    "to_drop2 = ['Trading', 'Trading Card Game']\n",
    "for j in to_drop2:\n",
    "    df.drop(df[df['tag']== j].index, inplace=True)\n",
    "\n",
    "df = pd.concat([df, df1])\n"
   ]
  },
  {
   "cell_type": "code",
   "execution_count": 3,
   "metadata": {},
   "outputs": [],
   "source": [
    "#convert ['peak', 'online', 'follows'] to int type\n",
    "for i in ['peak', 'online', 'follows']:\n",
    "    df[i] = df[i].str.replace(',', '')\n",
    "    df[i].replace({'': np.nan, '—': np.nan}, inplace=True)\n",
    "    df[i] = df[i].astype('Int64')\n",
    "    df[i].fillna(0, inplace=True)\n",
    "\n",
    "df['release'].replace({'—': np.nan}, inplace=True)\n",
    "\n",
    "#fill all missing value with Nov 199 to avoid converting problems\n",
    "df['release'].fillna('Nov 1900', inplace=True)\n",
    "\n",
    "# #while i was trying to convert this column i occured a funny release date \n",
    "# Note: delete df.drop(df[df['name'] == 'CITRON WORLD FORWARD:ZERO'].index, inplace=True) # <- this game set to release in 4444-Apr lol\n",
    "df['release'] = pd.to_datetime(df['release'], format='%b %Y', errors='coerce').dt.to_period('M')\n",
    "df.dropna(subset=['release'], inplace=True)\n"
   ]
  },
  {
   "cell_type": "code",
   "execution_count": 5,
   "metadata": {},
   "outputs": [
    {
     "name": "stderr",
     "output_type": "stream",
     "text": [
      "/tmp/ipykernel_4797/3796554065.py:10: FutureWarning: The default value of regex will change from True to False in a future version. In addition, single character regular expressions will *not* be treated as literal strings when regex=True.\n",
      "  df['price'] = pd.to_numeric(df['price'].str.replace('$', ''))\n"
     ]
    }
   ],
   "source": [
    "#try df[['rating', 'price']]\n",
    "to_replace = ['rating', 'price']\n",
    "for i in to_replace:\n",
    "    df[i].replace({\n",
    "        '—': ''\n",
    "    }, inplace=True)\n",
    "    \n",
    "df['rating'] = pd.to_numeric(df['rating'].str.replace('%', ''))\n",
    "\n",
    "df['price'] = pd.to_numeric(df['price'].str.replace('$', ''))\n",
    "df['price'].fillna(0, inplace=True)\n",
    "df['free'] = df['price'].apply(lambda x: 'free' if x == 0.00 else 'paid')"
   ]
  },
  {
   "cell_type": "code",
   "execution_count": 17,
   "metadata": {},
   "outputs": [
    {
     "data": {
      "text/html": [
       "<div>\n",
       "<style scoped>\n",
       "    .dataframe tbody tr th:only-of-type {\n",
       "        vertical-align: middle;\n",
       "    }\n",
       "\n",
       "    .dataframe tbody tr th {\n",
       "        vertical-align: top;\n",
       "    }\n",
       "\n",
       "    .dataframe thead th {\n",
       "        text-align: right;\n",
       "    }\n",
       "</style>\n",
       "<table border=\"1\" class=\"dataframe\">\n",
       "  <thead>\n",
       "    <tr style=\"text-align: right;\">\n",
       "      <th></th>\n",
       "      <th>tag</th>\n",
       "      <th>name</th>\n",
       "      <th>type</th>\n",
       "      <th>price</th>\n",
       "      <th>rating</th>\n",
       "      <th>release</th>\n",
       "      <th>follows</th>\n",
       "      <th>online</th>\n",
       "      <th>peak</th>\n",
       "      <th>free</th>\n",
       "    </tr>\n",
       "  </thead>\n",
       "  <tbody>\n",
       "    <tr>\n",
       "      <th>0</th>\n",
       "      <td>Archery</td>\n",
       "      <td>Arrow a Row</td>\n",
       "      <td>Game</td>\n",
       "      <td>0.00</td>\n",
       "      <td>94.50</td>\n",
       "      <td>2023-08</td>\n",
       "      <td>2689</td>\n",
       "      <td>347</td>\n",
       "      <td>9404</td>\n",
       "      <td>free</td>\n",
       "    </tr>\n",
       "    <tr>\n",
       "      <th>1</th>\n",
       "      <td>Archery</td>\n",
       "      <td>Northern Journey</td>\n",
       "      <td>Game</td>\n",
       "      <td>11.99</td>\n",
       "      <td>92.93</td>\n",
       "      <td>2021-08</td>\n",
       "      <td>3793</td>\n",
       "      <td>3</td>\n",
       "      <td>153</td>\n",
       "      <td>paid</td>\n",
       "    </tr>\n",
       "    <tr>\n",
       "      <th>2</th>\n",
       "      <td>Archery</td>\n",
       "      <td>The Lab</td>\n",
       "      <td>Game</td>\n",
       "      <td>0.00</td>\n",
       "      <td>91.75</td>\n",
       "      <td>2016-04</td>\n",
       "      <td>26426</td>\n",
       "      <td>18</td>\n",
       "      <td>927</td>\n",
       "      <td>free</td>\n",
       "    </tr>\n",
       "    <tr>\n",
       "      <th>3</th>\n",
       "      <td>Archery</td>\n",
       "      <td>TowerFall Ascension</td>\n",
       "      <td>Game</td>\n",
       "      <td>7.99</td>\n",
       "      <td>91.03</td>\n",
       "      <td>2014-03</td>\n",
       "      <td>17007</td>\n",
       "      <td>3</td>\n",
       "      <td>355</td>\n",
       "      <td>paid</td>\n",
       "    </tr>\n",
       "    <tr>\n",
       "      <th>4</th>\n",
       "      <td>Archery</td>\n",
       "      <td>Enderal: Forgotten Stories (Special Edition)</td>\n",
       "      <td>Game</td>\n",
       "      <td>0.00</td>\n",
       "      <td>90.09</td>\n",
       "      <td>2021-03</td>\n",
       "      <td>21863</td>\n",
       "      <td>267</td>\n",
       "      <td>2428</td>\n",
       "      <td>free</td>\n",
       "    </tr>\n",
       "  </tbody>\n",
       "</table>\n",
       "</div>"
      ],
      "text/plain": [
       "       tag                                          name  type  price  rating  \\\n",
       "0  Archery                                   Arrow a Row  Game   0.00   94.50   \n",
       "1  Archery                              Northern Journey  Game  11.99   92.93   \n",
       "2  Archery                                       The Lab  Game   0.00   91.75   \n",
       "3  Archery                           TowerFall Ascension  Game   7.99   91.03   \n",
       "4  Archery  Enderal: Forgotten Stories (Special Edition)  Game   0.00   90.09   \n",
       "\n",
       "   release  follows  online  peak  free  \n",
       "0  2023-08     2689     347  9404  free  \n",
       "1  2021-08     3793       3   153  paid  \n",
       "2  2016-04    26426      18   927  free  \n",
       "3  2014-03    17007       3   355  paid  \n",
       "4  2021-03    21863     267  2428  free  "
      ]
     },
     "execution_count": 17,
     "metadata": {},
     "output_type": "execute_result"
    }
   ],
   "source": [
    "df.head(5)"
   ]
  },
  {
   "cell_type": "code",
   "execution_count": 20,
   "metadata": {},
   "outputs": [
    {
     "data": {
      "text/plain": [
       "(150733, 10)"
      ]
     },
     "execution_count": 20,
     "metadata": {},
     "output_type": "execute_result"
    }
   ],
   "source": [
    "df1 = df.drop_duplicates(subset=['name', 'type', 'release'])\n",
    "df1.shape"
   ]
  },
  {
   "cell_type": "code",
   "execution_count": 38,
   "metadata": {},
   "outputs": [
    {
     "data": {
      "text/plain": [
       "(1781, 10)"
      ]
     },
     "execution_count": 38,
     "metadata": {},
     "output_type": "execute_result"
    }
   ],
   "source": [
    "too = df1.loc[df1['rating'] > 90].sort_values('rating', ascending=False)\n",
    "too.shape"
   ]
  },
  {
   "cell_type": "code",
   "execution_count": null,
   "metadata": {},
   "outputs": [],
   "source": []
  },
  {
   "cell_type": "code",
   "execution_count": null,
   "metadata": {},
   "outputs": [],
   "source": []
  },
  {
   "cell_type": "code",
   "execution_count": null,
   "metadata": {},
   "outputs": [],
   "source": []
  }
 ],
 "metadata": {
  "kernelspec": {
   "display_name": "base",
   "language": "python",
   "name": "python3"
  },
  "language_info": {
   "codemirror_mode": {
    "name": "ipython",
    "version": 3
   },
   "file_extension": ".py",
   "mimetype": "text/x-python",
   "name": "python",
   "nbconvert_exporter": "python",
   "pygments_lexer": "ipython3",
   "version": "3.9.12"
  }
 },
 "nbformat": 4,
 "nbformat_minor": 2
}
